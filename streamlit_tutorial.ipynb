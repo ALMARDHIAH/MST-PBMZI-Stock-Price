{
  "nbformat": 4,
  "nbformat_minor": 0,
  "metadata": {
    "colab": {
      "provenance": [],
      "authorship_tag": "ABX9TyOhiRGA2MMxqoGaaMRjq/dS",
      "include_colab_link": true
    },
    "kernelspec": {
      "name": "python3",
      "display_name": "Python 3"
    },
    "language_info": {
      "name": "python"
    }
  },
  "cells": [
    {
      "cell_type": "markdown",
      "metadata": {
        "id": "view-in-github",
        "colab_type": "text"
      },
      "source": [
        "<a href=\"https://colab.research.google.com/github/ALMARDHIAH/MST-PBMZI-Stock-Price/blob/main/streamlit_tutorial.ipynb\" target=\"_parent\"><img src=\"https://colab.research.google.com/assets/colab-badge.svg\" alt=\"Open In Colab\"/></a>"
      ]
    },
    {
      "cell_type": "code",
      "execution_count": null,
      "metadata": {
        "id": "_ew4pFBSzimu"
      },
      "outputs": [],
      "source": [
        "import streamlit as st\n",
        "\n",
        "# Title of the app\n",
        "st.title(\"BMI Calculator\")\n",
        "\n",
        "# Input: Weight in kilograms\n",
        "weight = st.number_input(\"Enter your weight (kg):\", min_value=0.0, format=\"%.2f\")\n",
        "\n",
        "# Input: Height format selection\n",
        "height_unit = st.radio(\"Select your height unit:\", ['Centimeters', 'Meters', 'Feet'])\n",
        "\n",
        "# Input: Height value based on selected unit\n",
        "height = st.number_input(f\"Enter your height ({height_unit.lower()}):\", min_value=0.0, format=\"%.2f\")\n",
        "\n",
        "# Calculate BMI when button is pressed\n",
        "if st.button(\"Calculate BMI\"):\n",
        "    try:\n",
        "        # Convert height to meters based on selected unit\n",
        "        if height_unit == 'Centimeters':\n",
        "            height_m = height / 100\n",
        "        elif height_unit == 'Feet':\n",
        "            height_m = height / 3.28\n",
        "        else:\n",
        "            height_m = height\n",
        "\n",
        "        # Prevent division by zero\n",
        "        if height_m <= 0:\n",
        "            st.error(\"Height must be greater than zero.\")\n",
        "        else:\n",
        "            bmi = weight / (height_m ** 2)\n",
        "            st.success(f\"Your BMI is {bmi:.2f}\")\n",
        "\n",
        "            # BMI interpretation\n",
        "            if bmi < 16:\n",
        "                st.error(\"You are Extremely Underweight\")\n",
        "            elif 16 <= bmi < 18.5:\n",
        "                st.warning(\"You are Underweight\")\n",
        "            elif 18.5 <= bmi < 25:\n",
        "                st.success(\"You are Healthy\")\n",
        "            elif 25 <= bmi < 30:\n",
        "                st.warning(\"You are Overweight\")\n",
        "            else:\n",
        "                st.error(\"You are Extremely Overweight\")\n",
        "    except:\n",
        "        st.error(\"Please enter valid numeric values.\")"
      ]
    }
  ]
}